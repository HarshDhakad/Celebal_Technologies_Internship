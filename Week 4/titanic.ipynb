{
 "cells": [
  {
   "cell_type": "code",
   "execution_count": null,
   "id": "49e89d65",
   "metadata": {},
   "outputs": [],
   "source": [
    "# Titanic Dataset - EDA\n",
    "import seaborn as sns\n",
    "import pandas as pd\n",
    "import numpy as np\n",
    "import matplotlib.pyplot as plt\n",
    "\n",
    "titanic_data = sns.load_dataset('titanic')\n",
    "titanic_data.head()"
   ]
  },
  {
   "cell_type": "code",
   "execution_count": null,
   "id": "57237d2b",
   "metadata": {},
   "outputs": [],
   "source": [
    "\n",
    "print(\"Shape:\", titanic_data.shape)\n",
    "print(\"Columns:\", titanic_data.columns)\n",
    "print(\"Missing Percentage:\", (titanic_data.isnull().sum()/len(titanic_data))*100)\n",
    "print(\"Data Types:\", titanic_data.dtypes)\n",
    "print(\"Summary Statistics:\", titanic_data.describe(include='all'))\n",
    "print(\"Missing Values:\", titanic_data.isnull().sum())\n"
   ]
  },
  {
   "cell_type": "code",
   "execution_count": null,
   "id": "63b40d1c",
   "metadata": {},
   "outputs": [],
   "source": [
    "\n",
    "plt.figure(figsize=(10, 6))\n",
    "sns.heatmap(titanic_data.isnull(), cbar=False, cmap='viridis', yticklabels=False)\n",
    "plt.title('Missing Values Heatmap')\n",
    "plt.show()"
   ]
  },
  {
   "cell_type": "code",
   "execution_count": null,
   "id": "7b308874",
   "metadata": {},
   "outputs": [],
   "source": [
    "\n",
    "from sklearn.experimental import enable_iterative_imputer\n",
    "from sklearn.impute import IterativeImputer\n",
    "from sklearn.ensemble import RandomForestRegressor\n",
    "\n",
    "titanic_data_filled = titanic_data.copy()\n",
    "num_cols = titanic_data_filled.select_dtypes(include=['number']).columns\n",
    "cat_cols = titanic_data_filled.select_dtypes(exclude=['number']).columns\n",
    "\n",
    "imputer = IterativeImputer(estimator=RandomForestRegressor(), random_state=0)\n",
    "titanic_data_filled[num_cols] = imputer.fit_transform(titanic_data_filled[num_cols])\n",
    "\n",
    "for col in cat_cols:\n",
    "    titanic_data_filled[col] = titanic_data_filled[col].fillna(titanic_data_filled[col].mode()[0])\n",
    "\n",
    "print(\"\\nMissing Values After Imputation:\\n\", titanic_data_filled.isnull().sum())\n"
   ]
  },
  {
   "cell_type": "code",
   "execution_count": null,
   "id": "9ab7135d",
   "metadata": {},
   "outputs": [],
   "source": [
    "\n",
    "sns.countplot(x='survived', data=titanic_data_filled)\n",
    "plt.title('Survival Count')\n",
    "plt.show()\n",
    "\n",
    "sns.countplot(x='pclass', data=titanic_data_filled)\n",
    "plt.title('Passenger Class Distribution')\n",
    "plt.show()\n",
    "\n",
    "sns.histplot(x='age', data=titanic_data_filled, kde=True)\n",
    "plt.title('Age Distribution')\n",
    "plt.show()\n",
    "\n",
    "sns.countplot(x='sex', data=titanic_data_filled)\n",
    "plt.title('Sex Distribution')\n",
    "plt.show()\n",
    "\n"
   ]
  },
  {
   "cell_type": "code",
   "execution_count": null,
   "id": "23cb7d9d",
   "metadata": {},
   "outputs": [],
   "source": [
    "\n",
    "sns.countplot(x='sex', hue='survived', data=titanic_data_filled)\n",
    "plt.title('Survival by Gender')\n",
    "plt.show()\n",
    "\n",
    "sns.countplot(x='pclass', hue='survived', data=titanic_data_filled)\n",
    "plt.title('Survival by Passenger Class')\n",
    "plt.show()\n",
    "\n",
    "titanic_data_filled['age_group'] = pd.cut(titanic_data_filled['age'], bins=[0,18,65,100], labels=['Child','Adult','Senior'])\n",
    "sns.countplot(x='age_group', hue='survived', data=titanic_data_filled)\n",
    "plt.title('Survival by Age Group')\n",
    "plt.show()\n",
    "\n",
    "sns.catplot(x='sex', hue='survived', col='pclass', kind='count', data=titanic_data_filled)\n",
    "plt.show()\n"
   ]
  },
  {
   "cell_type": "code",
   "execution_count": null,
   "id": "41d07ec3",
   "metadata": {},
   "outputs": [],
   "source": [
    "\n",
    "bins = [0, 12, 18, 40, 60, 80]\n",
    "labels = ['Child', 'Teenager', 'Adult', 'Middle-aged', 'Senior']\n",
    "titanic_data['age_group'] = pd.cut(titanic_data['age'], bins=bins, labels=labels)\n",
    "\n",
    "sns.countplot(x='age_group', hue='survived', data=titanic_data, palette='magma')\n",
    "plt.title('Survival Based on Age Group')\n",
    "plt.show()\n",
    "\n"
   ]
  },
  {
   "cell_type": "code",
   "execution_count": null,
   "id": "be305773",
   "metadata": {},
   "outputs": [],
   "source": [
    "\n",
    "plt.figure(figsize=(12, 8))\n",
    "numeric_data = titanic_data.select_dtypes(include=np.number)\n",
    "sns.heatmap(numeric_data.corr(), annot=True, cmap='coolwarm', fmt=\".2f\")\n",
    "plt.title('Feature Correlation Heatmap')\n",
    "plt.show()"
   ]
  }
 ],
 "metadata": {
  "language_info": {
   "name": "python"
  }
 },
 "nbformat": 4,
 "nbformat_minor": 5
}
